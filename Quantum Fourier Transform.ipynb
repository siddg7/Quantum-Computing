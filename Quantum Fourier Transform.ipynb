{
 "cells": [
  {
   "cell_type": "code",
   "execution_count": 1,
   "metadata": {},
   "outputs": [],
   "source": [
    "import numpy as np\n",
    "from numpy import pi\n",
    "# importing Qiskit\n",
    "from qiskit import QuantumCircuit, execute, Aer, IBMQ\n",
    "from qiskit.providers.ibmq import least_busy\n",
    "from qiskit.tools.monitor import job_monitor\n",
    "from qiskit.visualization import plot_histogram, plot_bloch_multivector\n",
    "%config InlineBackend.figure_format = 'svg'"
   ]
  },
  {
   "cell_type": "markdown",
   "metadata": {},
   "source": [
    "3 Qubit Quantum Fourier Transform"
   ]
  },
  {
   "cell_type": "code",
   "execution_count": 2,
   "metadata": {},
   "outputs": [],
   "source": [
    "qc = QuantumCircuit(3)"
   ]
  },
  {
   "cell_type": "code",
   "execution_count": 3,
   "metadata": {},
   "outputs": [
    {
     "data": {
      "text/html": [
       "<pre style=\"word-wrap: normal;white-space: pre;background: #fff0;line-height: 1.1;font-family: &quot;Courier New&quot;,Courier,monospace\">                                       ┌───┐   \n",
       "q_0: |0>─────────────■───────────■─────┤ H ├─X─\n",
       "                     │     ┌───┐ │pi/2 └───┘ │ \n",
       "q_1: |0>──────■──────┼─────┤ H ├─■───────────┼─\n",
       "        ┌───┐ │pi/2  │pi/4 └───┘             │ \n",
       "q_2: |0>┤ H ├─■──────■───────────────────────X─\n",
       "        └───┘                                  </pre>"
      ],
      "text/plain": [
       "<qiskit.visualization.text.TextDrawing at 0x1f92f81d780>"
      ]
     },
     "execution_count": 3,
     "metadata": {},
     "output_type": "execute_result"
    }
   ],
   "source": [
    "qc.h(2)\n",
    "qc.cu1(pi/2, 1, 2) # CROT from qubit 1 to qubit 2\n",
    "qc.cu1(pi/4, 0, 2) # CROT from qubit 2 to qubit 0\n",
    "qc.h(1)\n",
    "qc.cu1(pi/2, 0, 1) # CROT from qubit 0 to qubit 1\n",
    "qc.h(0)\n",
    "qc.swap(0,2)\n",
    "qc.draw('mpl')"
   ]
  },
  {
   "cell_type": "markdown",
   "metadata": {},
   "source": [
    "General Quantum Fourier Transform"
   ]
  },
  {
   "cell_type": "code",
   "execution_count": 4,
   "metadata": {},
   "outputs": [],
   "source": [
    "def qft(qc, n):\n",
    "    \n",
    "    for i in range(n-1,-1,-1):\n",
    "        qc.h(i)\n",
    "        for j in range(i):\n",
    "            qc.cu1(pi/pow(2,j+1),j,i)\n",
    "               \n",
    "        "
   ]
  },
  {
   "cell_type": "code",
   "execution_count": 5,
   "metadata": {},
   "outputs": [
    {
     "data": {
      "text/html": [
       "<pre style=\"word-wrap: normal;white-space: pre;background: #fff0;line-height: 1.1;font-family: &quot;Courier New&quot;,Courier,monospace\">                                       ┌───┐\n",
       "q_0: |0>──────■──────────────────■─────┤ H ├\n",
       "              │            ┌───┐ │pi/2 └───┘\n",
       "q_1: |0>──────┼──────■─────┤ H ├─■──────────\n",
       "        ┌───┐ │pi/2  │pi/4 └───┘            \n",
       "q_2: |0>┤ H ├─■──────■──────────────────────\n",
       "        └───┘                               </pre>"
      ],
      "text/plain": [
       "<qiskit.visualization.text.TextDrawing at 0x1f948b0bf98>"
      ]
     },
     "execution_count": 5,
     "metadata": {},
     "output_type": "execute_result"
    }
   ],
   "source": [
    "circuit = QuantumCircuit(3)\n",
    "qft(circuit,3)\n",
    "circuit.draw('mpl')\n"
   ]
  },
  {
   "cell_type": "code",
   "execution_count": null,
   "metadata": {},
   "outputs": [],
   "source": []
  }
 ],
 "metadata": {
  "kernelspec": {
   "display_name": "Python 3",
   "language": "python",
   "name": "python3"
  },
  "language_info": {
   "codemirror_mode": {
    "name": "ipython",
    "version": 3
   },
   "file_extension": ".py",
   "mimetype": "text/x-python",
   "name": "python",
   "nbconvert_exporter": "python",
   "pygments_lexer": "ipython3",
   "version": "3.7.3"
  }
 },
 "nbformat": 4,
 "nbformat_minor": 2
}
